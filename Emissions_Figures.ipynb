{
 "cells": [
  {
   "cell_type": "markdown",
   "id": "f4c84451-7122-47ca-be8c-69191783446c",
   "metadata": {},
   "source": [
    "# This is a Graph of Global Annual CO2 Emissions\n",
    "\n",
    "Data Source: https://www.bp.com/en/global/corporate/energy-economics/statistical-review-of-world-energy/energy-charting-tool-desktop.html.html#/results/et/carb-emis/unit/MTCO2/regions/tWORLD/view/area\n"
   ]
  },
  {
   "cell_type": "code",
   "execution_count": 1,
   "id": "ba20ce84-4102-4f28-8613-6d7187e2776a",
   "metadata": {},
   "outputs": [],
   "source": [
    "import pandas as pd\n",
    "import matplotlib.pyplot as plt\n",
    "import numpy as np\n",
    "\n",
    "df_emissions = pd.read_csv('BP_CO2_2021.csv')\n",
    "\n",
    "years_emissions = df_emissions['Year']\n",
    "emissions = df_emissions['World_carb_emis']\n",
    "emissions = emissions/1000     #convert from MTCO2 to GTCO2\n"
   ]
  },
  {
   "cell_type": "markdown",
   "id": "91198e5a-9721-454e-9be6-109a7905e07a",
   "metadata": {},
   "source": [
    "# Now we make a graph"
   ]
  },
  {
   "cell_type": "code",
   "execution_count": 2,
   "id": "18280236-955f-46d3-83f5-fb000ade7f72",
   "metadata": {},
   "outputs": [
    {
     "data": {
      "text/plain": [
       "Text(0, 0.5, 'GTCO2')"
      ]
     },
     "execution_count": 2,
     "metadata": {},
     "output_type": "execute_result"
    },
    {
     "data": {
      "image/png": "[encoded data removed]",
      "text/plain": [
       "<Figure size 432x288 with 1 Axes>"
      ]
     },
     "metadata": {
      "needs_background": "light"
     },
     "output_type": "display_data"
    }
   ],
   "source": [
    "fig, ax = plt.subplots()\n",
    "ax.plot(years_emissions,emissions)\n",
    "ax.plot(2050,0,'ro',markersize='10')\n",
    "ax.plot([2021,2050],[emissions[56],0],'r--')\n",
    "\n",
    "plt.xlim([1950,2070])\n",
    "plt.xticks([1950,1975,2000,2025,2050])\n",
    "plt.ylim([0,40])\n",
    "\n",
    "ax.set_title('Emissions')\n",
    "ax.set_xlabel('Year')\n",
    "ax.set_ylabel('GTCO2')"
   ]
  },
  {
   "cell_type": "code",
   "execution_count": null,
   "id": "e59863bb-cd3f-4b46-adf0-5265af169c42",
   "metadata": {},
   "outputs": [],
   "source": []
  },
  {
   "cell_type": "code",
   "execution_count": null,
   "id": "448b6680-f4e0-4a8e-af87-cc3a76c4c33b",
   "metadata": {},
   "outputs": [],
   "source": []
  }
 ],
 "metadata": {
  "kernelspec": {
   "display_name": "Python 3 (ipykernel)",
   "language": "python",
   "name": "python3"
  },
  "language_info": {
   "codemirror_mode": {
    "name": "ipython",
    "version": 3
   },
   "file_extension": ".py",
   "mimetype": "text/x-python",
   "name": "python",
   "nbconvert_exporter": "python",
   "pygments_lexer": "ipython3",
   "version": "3.8.13"
  }
 },
 "nbformat": 4,
 "nbformat_minor": 5
}
